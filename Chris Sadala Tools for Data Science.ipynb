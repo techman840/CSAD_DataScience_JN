{
 "cells": [
  {
   "cell_type": "markdown",
   "metadata": {
    "collapsed": true
   },
   "source": [
    "# My Jupyter Notebook on IBM Watson Studio"
   ]
  },
  {
   "cell_type": "markdown",
   "metadata": {},
   "source": [
    "**Chris Sadala**\n",
    "\n",
    "I am a Senior Consultant with a firm specializing in investment management.   I work as a developer and business analyst.\n"
   ]
  },
  {
   "cell_type": "markdown",
   "metadata": {},
   "source": [
    "*Data science is interesting to me because of the heavy use of quantitative data in the investment industry.   The tools used by data scientists can identify hidden relationships between various data sets and may provide alpha for portfolio managers.*"
   ]
  },
  {
   "cell_type": "markdown",
   "metadata": {},
   "source": [
    "### The code below will set 2 variables, multiply them together and then show the result."
   ]
  },
  {
   "cell_type": "code",
   "execution_count": 1,
   "metadata": {},
   "outputs": [
    {
     "name": "stdout",
     "output_type": "stream",
     "text": [
      "28\n"
     ]
    }
   ],
   "source": [
    "x = 4\n",
    "y = 7\n",
    "print(x * y)"
   ]
  },
  {
   "cell_type": "markdown",
   "metadata": {},
   "source": [
    "|Name|Address|Phone| \n",
    "|-------|-------|-------|\n",
    "|Bob Smith|123 Main St.|202-555-1466|\n",
    "\n",
    "*Highlighted Code Segment*\n",
    "\n",
    "```Python\n",
    "z = 45\n",
    "x = str(z)\n",
    "print(z)\n",
    "```\n",
    "\n",
    "*Numbered List*\n",
    "\n",
    "1. Alpha\n",
    "2. Beta\n",
    "3. Gamma"
   ]
  },
  {
   "cell_type": "code",
   "execution_count": null,
   "metadata": {},
   "outputs": [],
   "source": []
  }
 ],
 "metadata": {
  "kernelspec": {
   "display_name": "Python 3.9",
   "language": "python",
   "name": "python3"
  },
  "language_info": {
   "codemirror_mode": {
    "name": "ipython",
    "version": 3
   },
   "file_extension": ".py",
   "mimetype": "text/x-python",
   "name": "python",
   "nbconvert_exporter": "python",
   "pygments_lexer": "ipython3",
   "version": "3.9.12"
  }
 },
 "nbformat": 4,
 "nbformat_minor": 1
}
